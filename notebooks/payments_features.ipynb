{
 "cells": [
  {
   "cell_type": "code",
   "execution_count": 1,
   "id": "f750231d",
   "metadata": {},
   "outputs": [],
   "source": [
    "import numpy as np\n",
    "import pandas as pd\n",
    "\n",
    "from tqdm.notebook import tqdm"
   ]
  },
  {
   "cell_type": "code",
   "execution_count": 2,
   "id": "2ba8e80e",
   "metadata": {},
   "outputs": [
    {
     "name": "stdout",
     "output_type": "stream",
     "text": [
      "total 580596\r\n",
      "-rw------- 1 v.bugaevskii v.bugaevskii    904039 Apr 17 11:12 appl.csv\r\n",
      "-rw------- 1 v.bugaevskii v.bugaevskii   6577695 Apr 17 11:12 aum.csv\r\n",
      "-rw------- 1 v.bugaevskii v.bugaevskii  91636746 Apr 17 11:12 balance.csv\r\n",
      "-rw------- 1 v.bugaevskii v.bugaevskii   1110765 Apr 17 11:12 client.csv\r\n",
      "-rw------- 1 v.bugaevskii v.bugaevskii   6686165 Apr 17 11:12 com.csv\r\n",
      "-rw------- 1 v.bugaevskii v.bugaevskii   7499804 Apr 17 11:12 deals.csv\r\n",
      "-rw------- 1 v.bugaevskii v.bugaevskii     18979 Apr 17 11:12 dict_mcc.csv\r\n",
      "-rw------- 1 v.bugaevskii v.bugaevskii   2322389 Apr 17 11:12 funnel.csv\r\n",
      "-rw------- 1 v.bugaevskii v.bugaevskii  10553763 Apr 17 11:12 payments.csv\r\n",
      "-rw------- 1 v.bugaevskii v.bugaevskii 467193115 Apr 17 11:12 trxn.csv\r\n"
     ]
    }
   ],
   "source": [
    "!ls -l ../data/"
   ]
  },
  {
   "cell_type": "code",
   "execution_count": 3,
   "id": "4e3adefc",
   "metadata": {},
   "outputs": [],
   "source": [
    "from pathlib import Path"
   ]
  },
  {
   "cell_type": "code",
   "execution_count": 4,
   "id": "a81615c2",
   "metadata": {},
   "outputs": [
    {
     "data": {
      "application/vnd.jupyter.widget-view+json": {
       "model_id": "23e95e9f1ae848d18806a23bed438351",
       "version_major": 2,
       "version_minor": 0
      },
      "text/plain": [
       "  0%|          | 0/10 [00:00<?, ?it/s]"
      ]
     },
     "metadata": {},
     "output_type": "display_data"
    },
    {
     "name": "stdout",
     "output_type": "stream",
     "text": [
      "../data/appl.csv saved to df_appl; df_appl.shape = (12030, 6)\n",
      "../data/aum.csv saved to df_aum; df_aum.shape = (117392, 4)\n",
      "../data/balance.csv saved to df_balance; df_balance.shape = (1194684, 9)\n",
      "../data/client.csv saved to df_client; df_client.shape = (21498, 8)\n",
      "../data/com.csv saved to df_com; df_com.shape = (113055, 10)\n",
      "../data/deals.csv saved to df_deals; df_deals.shape = (109016, 8)\n",
      "../data/dict_mcc.csv saved to df_dict_mcc; df_dict_mcc.shape = (915, 3)\n",
      "../data/funnel.csv saved to df_funnel; df_funnel.shape = (21498, 16)\n",
      "../data/payments.csv saved to df_payments; df_payments.shape = (188068, 4)\n"
     ]
    },
    {
     "name": "stderr",
     "output_type": "stream",
     "text": [
      "/home/v.bugaevskii/.conda/envs/idao2021/lib/python3.8/site-packages/IPython/core/interactiveshell.py:3062: DtypeWarning: Columns (10) have mixed types.Specify dtype option on import or set low_memory=False.\n",
      "  has_raised = await self.run_ast_nodes(code_ast.body, cell_name,\n"
     ]
    },
    {
     "name": "stdout",
     "output_type": "stream",
     "text": [
      "../data/trxn.csv saved to df_trxn; df_trxn.shape = (3035705, 11)\n"
     ]
    }
   ],
   "source": [
    "path_df = Path('../data').rglob('*.csv')\n",
    "path_df = sorted(path_df)\n",
    "\n",
    "for path in tqdm(path_df):\n",
    "    df_name = 'df_' + path.name.rsplit('.', 1)[0]\n",
    "    vars()[df_name] = pd.read_csv(path)\n",
    "    print(f'{path} saved to {df_name}; {df_name}.shape = {vars()[df_name].shape}')"
   ]
  },
  {
   "cell_type": "code",
   "execution_count": 5,
   "id": "f717ae34",
   "metadata": {},
   "outputs": [
    {
     "data": {
      "text/html": [
       "<div>\n",
       "<style scoped>\n",
       "    .dataframe tbody tr th:only-of-type {\n",
       "        vertical-align: middle;\n",
       "    }\n",
       "\n",
       "    .dataframe tbody tr th {\n",
       "        vertical-align: top;\n",
       "    }\n",
       "\n",
       "    .dataframe thead th {\n",
       "        text-align: right;\n",
       "    }\n",
       "</style>\n",
       "<table border=\"1\" class=\"dataframe\">\n",
       "  <thead>\n",
       "    <tr style=\"text-align: right;\">\n",
       "      <th></th>\n",
       "      <th>client_id</th>\n",
       "      <th>pmnts_name</th>\n",
       "      <th>sum_rur_mean</th>\n",
       "      <th>sum_rur_count</th>\n",
       "    </tr>\n",
       "  </thead>\n",
       "  <tbody>\n",
       "    <tr>\n",
       "      <th>0</th>\n",
       "      <td>-9220236243053692422</td>\n",
       "      <td>Salary receipts</td>\n",
       "      <td>15737.333333</td>\n",
       "      <td>9</td>\n",
       "    </tr>\n",
       "    <tr>\n",
       "      <th>1</th>\n",
       "      <td>-9220233431709087652</td>\n",
       "      <td>Salary receipts</td>\n",
       "      <td>32787.000000</td>\n",
       "      <td>23</td>\n",
       "    </tr>\n",
       "    <tr>\n",
       "      <th>2</th>\n",
       "      <td>-9219699286371310531</td>\n",
       "      <td>Salary receipts</td>\n",
       "      <td>4629.636364</td>\n",
       "      <td>11</td>\n",
       "    </tr>\n",
       "    <tr>\n",
       "      <th>3</th>\n",
       "      <td>-9218871523310554579</td>\n",
       "      <td>Salary receipts</td>\n",
       "      <td>15783.120000</td>\n",
       "      <td>25</td>\n",
       "    </tr>\n",
       "    <tr>\n",
       "      <th>4</th>\n",
       "      <td>-9217476774110203314</td>\n",
       "      <td>Salary receipts</td>\n",
       "      <td>3614.833333</td>\n",
       "      <td>6</td>\n",
       "    </tr>\n",
       "  </tbody>\n",
       "</table>\n",
       "</div>"
      ],
      "text/plain": [
       "             client_id       pmnts_name  sum_rur_mean  sum_rur_count\n",
       "0 -9220236243053692422  Salary receipts  15737.333333              9\n",
       "1 -9220233431709087652  Salary receipts  32787.000000             23\n",
       "2 -9219699286371310531  Salary receipts   4629.636364             11\n",
       "3 -9218871523310554579  Salary receipts  15783.120000             25\n",
       "4 -9217476774110203314  Salary receipts   3614.833333              6"
      ]
     },
     "execution_count": 5,
     "metadata": {},
     "output_type": "execute_result"
    }
   ],
   "source": [
    "df_grouped = df_payments.groupby(['client_id', 'pmnts_name']).agg(['mean', 'count'])\n",
    "df_grouped.columns = ['_'.join(col) for col in df_grouped.columns]\n",
    "df_grouped = df_grouped.reset_index()\n",
    "df_grouped.head()"
   ]
  },
  {
   "cell_type": "code",
   "execution_count": 6,
   "id": "bb6aa864",
   "metadata": {},
   "outputs": [
    {
     "data": {
      "text/html": [
       "<div>\n",
       "<style scoped>\n",
       "    .dataframe tbody tr th:only-of-type {\n",
       "        vertical-align: middle;\n",
       "    }\n",
       "\n",
       "    .dataframe tbody tr th {\n",
       "        vertical-align: top;\n",
       "    }\n",
       "\n",
       "    .dataframe thead th {\n",
       "        text-align: right;\n",
       "    }\n",
       "</style>\n",
       "<table border=\"1\" class=\"dataframe\">\n",
       "  <thead>\n",
       "    <tr style=\"text-align: right;\">\n",
       "      <th>pmnts_name</th>\n",
       "      <th>pmnts_name_sum_rur_mean_Pension_receipts</th>\n",
       "      <th>pmnts_name_sum_rur_mean_Salary_receipts</th>\n",
       "      <th>pmnts_name_sum_rur_count_Pension_receipts</th>\n",
       "      <th>pmnts_name_sum_rur_count_Salary_receipts</th>\n",
       "    </tr>\n",
       "    <tr>\n",
       "      <th>client_id</th>\n",
       "      <th></th>\n",
       "      <th></th>\n",
       "      <th></th>\n",
       "      <th></th>\n",
       "    </tr>\n",
       "  </thead>\n",
       "  <tbody>\n",
       "    <tr>\n",
       "      <th>-9220236243053692422</th>\n",
       "      <td>NaN</td>\n",
       "      <td>15737.333333</td>\n",
       "      <td>NaN</td>\n",
       "      <td>9.0</td>\n",
       "    </tr>\n",
       "    <tr>\n",
       "      <th>-9220233431709087652</th>\n",
       "      <td>NaN</td>\n",
       "      <td>32787.000000</td>\n",
       "      <td>NaN</td>\n",
       "      <td>23.0</td>\n",
       "    </tr>\n",
       "    <tr>\n",
       "      <th>-9219699286371310531</th>\n",
       "      <td>NaN</td>\n",
       "      <td>4629.636364</td>\n",
       "      <td>NaN</td>\n",
       "      <td>11.0</td>\n",
       "    </tr>\n",
       "    <tr>\n",
       "      <th>-9218871523310554579</th>\n",
       "      <td>NaN</td>\n",
       "      <td>15783.120000</td>\n",
       "      <td>NaN</td>\n",
       "      <td>25.0</td>\n",
       "    </tr>\n",
       "    <tr>\n",
       "      <th>-9217476774110203314</th>\n",
       "      <td>NaN</td>\n",
       "      <td>3614.833333</td>\n",
       "      <td>NaN</td>\n",
       "      <td>6.0</td>\n",
       "    </tr>\n",
       "  </tbody>\n",
       "</table>\n",
       "</div>"
      ],
      "text/plain": [
       "pmnts_name            pmnts_name_sum_rur_mean_Pension_receipts  \\\n",
       "client_id                                                        \n",
       "-9220236243053692422                                       NaN   \n",
       "-9220233431709087652                                       NaN   \n",
       "-9219699286371310531                                       NaN   \n",
       "-9218871523310554579                                       NaN   \n",
       "-9217476774110203314                                       NaN   \n",
       "\n",
       "pmnts_name            pmnts_name_sum_rur_mean_Salary_receipts  \\\n",
       "client_id                                                       \n",
       "-9220236243053692422                             15737.333333   \n",
       "-9220233431709087652                             32787.000000   \n",
       "-9219699286371310531                              4629.636364   \n",
       "-9218871523310554579                             15783.120000   \n",
       "-9217476774110203314                              3614.833333   \n",
       "\n",
       "pmnts_name            pmnts_name_sum_rur_count_Pension_receipts  \\\n",
       "client_id                                                         \n",
       "-9220236243053692422                                        NaN   \n",
       "-9220233431709087652                                        NaN   \n",
       "-9219699286371310531                                        NaN   \n",
       "-9218871523310554579                                        NaN   \n",
       "-9217476774110203314                                        NaN   \n",
       "\n",
       "pmnts_name            pmnts_name_sum_rur_count_Salary_receipts  \n",
       "client_id                                                       \n",
       "-9220236243053692422                                       9.0  \n",
       "-9220233431709087652                                      23.0  \n",
       "-9219699286371310531                                      11.0  \n",
       "-9218871523310554579                                      25.0  \n",
       "-9217476774110203314                                       6.0  "
      ]
     },
     "execution_count": 6,
     "metadata": {},
     "output_type": "execute_result"
    }
   ],
   "source": [
    "df_features_pull = []\n",
    "\n",
    "for values in ['sum_rur_mean', 'sum_rur_count']:\n",
    "    df_features_ = pd.pivot_table(\n",
    "        df_grouped,\n",
    "        values=values,\n",
    "        index='client_id', \n",
    "        columns='pmnts_name',\n",
    "    )\n",
    "    df_features_.columns = df_features_.columns.str.replace(' ', '_')\n",
    "    df_features_ = df_features_.add_prefix('pmnts_name_' + values + '_')\n",
    "    df_features_pull.append(df_features_)\n",
    "\n",
    "df_features = pd.concat(df_features_pull, axis=1)\n",
    "df_features.head()"
   ]
  },
  {
   "cell_type": "code",
   "execution_count": 7,
   "id": "6e290c2f",
   "metadata": {},
   "outputs": [
    {
     "data": {
      "text/html": [
       "<div>\n",
       "<style scoped>\n",
       "    .dataframe tbody tr th:only-of-type {\n",
       "        vertical-align: middle;\n",
       "    }\n",
       "\n",
       "    .dataframe tbody tr th {\n",
       "        vertical-align: top;\n",
       "    }\n",
       "\n",
       "    .dataframe thead th {\n",
       "        text-align: right;\n",
       "    }\n",
       "</style>\n",
       "<table border=\"1\" class=\"dataframe\">\n",
       "  <thead>\n",
       "    <tr style=\"text-align: right;\">\n",
       "      <th>pmnts_name</th>\n",
       "      <th>pmnts_name_sum_rur_mean_Pension_receipts</th>\n",
       "      <th>pmnts_name_sum_rur_mean_Salary_receipts</th>\n",
       "      <th>pmnts_name_sum_rur_count_Pension_receipts</th>\n",
       "      <th>pmnts_name_sum_rur_count_Salary_receipts</th>\n",
       "    </tr>\n",
       "    <tr>\n",
       "      <th>client_id</th>\n",
       "      <th></th>\n",
       "      <th></th>\n",
       "      <th></th>\n",
       "      <th></th>\n",
       "    </tr>\n",
       "  </thead>\n",
       "  <tbody>\n",
       "    <tr>\n",
       "      <th>-9220236243053692422</th>\n",
       "      <td>0.0</td>\n",
       "      <td>15737.333333</td>\n",
       "      <td>0</td>\n",
       "      <td>9</td>\n",
       "    </tr>\n",
       "    <tr>\n",
       "      <th>-9220233431709087652</th>\n",
       "      <td>0.0</td>\n",
       "      <td>32787.000000</td>\n",
       "      <td>0</td>\n",
       "      <td>23</td>\n",
       "    </tr>\n",
       "    <tr>\n",
       "      <th>-9219699286371310531</th>\n",
       "      <td>0.0</td>\n",
       "      <td>4629.636364</td>\n",
       "      <td>0</td>\n",
       "      <td>11</td>\n",
       "    </tr>\n",
       "    <tr>\n",
       "      <th>-9218871523310554579</th>\n",
       "      <td>0.0</td>\n",
       "      <td>15783.120000</td>\n",
       "      <td>0</td>\n",
       "      <td>25</td>\n",
       "    </tr>\n",
       "    <tr>\n",
       "      <th>-9217476774110203314</th>\n",
       "      <td>0.0</td>\n",
       "      <td>3614.833333</td>\n",
       "      <td>0</td>\n",
       "      <td>6</td>\n",
       "    </tr>\n",
       "  </tbody>\n",
       "</table>\n",
       "</div>"
      ],
      "text/plain": [
       "pmnts_name            pmnts_name_sum_rur_mean_Pension_receipts  \\\n",
       "client_id                                                        \n",
       "-9220236243053692422                                       0.0   \n",
       "-9220233431709087652                                       0.0   \n",
       "-9219699286371310531                                       0.0   \n",
       "-9218871523310554579                                       0.0   \n",
       "-9217476774110203314                                       0.0   \n",
       "\n",
       "pmnts_name            pmnts_name_sum_rur_mean_Salary_receipts  \\\n",
       "client_id                                                       \n",
       "-9220236243053692422                             15737.333333   \n",
       "-9220233431709087652                             32787.000000   \n",
       "-9219699286371310531                              4629.636364   \n",
       "-9218871523310554579                             15783.120000   \n",
       "-9217476774110203314                              3614.833333   \n",
       "\n",
       "pmnts_name            pmnts_name_sum_rur_count_Pension_receipts  \\\n",
       "client_id                                                         \n",
       "-9220236243053692422                                          0   \n",
       "-9220233431709087652                                          0   \n",
       "-9219699286371310531                                          0   \n",
       "-9218871523310554579                                          0   \n",
       "-9217476774110203314                                          0   \n",
       "\n",
       "pmnts_name            pmnts_name_sum_rur_count_Salary_receipts  \n",
       "client_id                                                       \n",
       "-9220236243053692422                                         9  \n",
       "-9220233431709087652                                        23  \n",
       "-9219699286371310531                                        11  \n",
       "-9218871523310554579                                        25  \n",
       "-9217476774110203314                                         6  "
      ]
     },
     "execution_count": 7,
     "metadata": {},
     "output_type": "execute_result"
    }
   ],
   "source": [
    "df_features = df_features.fillna(0)\n",
    "\n",
    "df_features['pmnts_name_sum_rur_count_Pension_receipts'] = \\\n",
    "    df_features['pmnts_name_sum_rur_count_Pension_receipts'].astype(int)\n",
    "\n",
    "df_features['pmnts_name_sum_rur_count_Salary_receipts'] = \\\n",
    "    df_features['pmnts_name_sum_rur_count_Salary_receipts'].astype(int)\n",
    "\n",
    "df_features.head()"
   ]
  },
  {
   "cell_type": "code",
   "execution_count": 8,
   "id": "a257b5c3",
   "metadata": {},
   "outputs": [],
   "source": [
    "df_features.to_csv('payments_features.csv', index=True)"
   ]
  },
  {
   "cell_type": "code",
   "execution_count": null,
   "id": "31de8a2b",
   "metadata": {},
   "outputs": [],
   "source": []
  }
 ],
 "metadata": {
  "kernelspec": {
   "display_name": "Python 3",
   "language": "python",
   "name": "python3"
  },
  "language_info": {
   "codemirror_mode": {
    "name": "ipython",
    "version": 3
   },
   "file_extension": ".py",
   "mimetype": "text/x-python",
   "name": "python",
   "nbconvert_exporter": "python",
   "pygments_lexer": "ipython3",
   "version": "3.8.5"
  }
 },
 "nbformat": 4,
 "nbformat_minor": 5
}
