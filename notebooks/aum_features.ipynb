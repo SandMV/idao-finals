{
 "cells": [
  {
   "cell_type": "code",
   "execution_count": 1,
   "id": "1b4616de",
   "metadata": {},
   "outputs": [],
   "source": [
    "import numpy as np\n",
    "import pandas as pd\n",
    "\n",
    "from tqdm.notebook import tqdm"
   ]
  },
  {
   "cell_type": "code",
   "execution_count": 2,
   "id": "004669b9",
   "metadata": {},
   "outputs": [
    {
     "name": "stdout",
     "output_type": "stream",
     "text": [
      "total 580596\r\n",
      "-rw------- 1 v.bugaevskii v.bugaevskii    904039 Apr 17 11:12 appl.csv\r\n",
      "-rw------- 1 v.bugaevskii v.bugaevskii   6577695 Apr 17 11:12 aum.csv\r\n",
      "-rw------- 1 v.bugaevskii v.bugaevskii  91636746 Apr 17 11:12 balance.csv\r\n",
      "-rw------- 1 v.bugaevskii v.bugaevskii   1110765 Apr 17 11:12 client.csv\r\n",
      "-rw------- 1 v.bugaevskii v.bugaevskii   6686165 Apr 17 11:12 com.csv\r\n",
      "-rw------- 1 v.bugaevskii v.bugaevskii   7499804 Apr 17 11:12 deals.csv\r\n",
      "-rw------- 1 v.bugaevskii v.bugaevskii     18979 Apr 17 11:12 dict_mcc.csv\r\n",
      "-rw------- 1 v.bugaevskii v.bugaevskii   2322389 Apr 17 11:12 funnel.csv\r\n",
      "-rw------- 1 v.bugaevskii v.bugaevskii  10553763 Apr 17 11:12 payments.csv\r\n",
      "-rw------- 1 v.bugaevskii v.bugaevskii 467193115 Apr 17 11:12 trxn.csv\r\n"
     ]
    }
   ],
   "source": [
    "!ls -l ../data/"
   ]
  },
  {
   "cell_type": "code",
   "execution_count": 3,
   "id": "8dee67ce",
   "metadata": {},
   "outputs": [],
   "source": [
    "from pathlib import Path"
   ]
  },
  {
   "cell_type": "code",
   "execution_count": 4,
   "id": "0205f8bb",
   "metadata": {},
   "outputs": [
    {
     "data": {
      "application/vnd.jupyter.widget-view+json": {
       "model_id": "19a2fabaae974d47b960f0099ecfeda1",
       "version_major": 2,
       "version_minor": 0
      },
      "text/plain": [
       "  0%|          | 0/10 [00:00<?, ?it/s]"
      ]
     },
     "metadata": {},
     "output_type": "display_data"
    },
    {
     "name": "stdout",
     "output_type": "stream",
     "text": [
      "../data/appl.csv saved to df_appl; df_appl.shape = (12030, 6)\n",
      "../data/aum.csv saved to df_aum; df_aum.shape = (117392, 4)\n",
      "../data/balance.csv saved to df_balance; df_balance.shape = (1194684, 9)\n",
      "../data/client.csv saved to df_client; df_client.shape = (21498, 8)\n",
      "../data/com.csv saved to df_com; df_com.shape = (113055, 10)\n",
      "../data/deals.csv saved to df_deals; df_deals.shape = (109016, 8)\n",
      "../data/dict_mcc.csv saved to df_dict_mcc; df_dict_mcc.shape = (915, 3)\n",
      "../data/funnel.csv saved to df_funnel; df_funnel.shape = (21498, 16)\n",
      "../data/payments.csv saved to df_payments; df_payments.shape = (188068, 4)\n"
     ]
    },
    {
     "name": "stderr",
     "output_type": "stream",
     "text": [
      "/home/v.bugaevskii/.conda/envs/idao2021/lib/python3.8/site-packages/IPython/core/interactiveshell.py:3062: DtypeWarning: Columns (10) have mixed types.Specify dtype option on import or set low_memory=False.\n",
      "  has_raised = await self.run_ast_nodes(code_ast.body, cell_name,\n"
     ]
    },
    {
     "name": "stdout",
     "output_type": "stream",
     "text": [
      "../data/trxn.csv saved to df_trxn; df_trxn.shape = (3035705, 11)\n"
     ]
    }
   ],
   "source": [
    "path_df = Path('../data').rglob('*.csv')\n",
    "path_df = sorted(path_df)\n",
    "\n",
    "for path in tqdm(path_df):\n",
    "    df_name = 'df_' + path.name.rsplit('.', 1)[0]\n",
    "    vars()[df_name] = pd.read_csv(path)\n",
    "    print(f'{path} saved to {df_name}; {df_name}.shape = {vars()[df_name].shape}')"
   ]
  },
  {
   "cell_type": "code",
   "execution_count": 7,
   "id": "16f41429",
   "metadata": {},
   "outputs": [
    {
     "data": {
      "text/html": [
       "<div>\n",
       "<style scoped>\n",
       "    .dataframe tbody tr th:only-of-type {\n",
       "        vertical-align: middle;\n",
       "    }\n",
       "\n",
       "    .dataframe tbody tr th {\n",
       "        vertical-align: top;\n",
       "    }\n",
       "\n",
       "    .dataframe thead th {\n",
       "        text-align: right;\n",
       "    }\n",
       "</style>\n",
       "<table border=\"1\" class=\"dataframe\">\n",
       "  <thead>\n",
       "    <tr style=\"text-align: right;\">\n",
       "      <th>product_code</th>\n",
       "      <th>aum_amnt_Broker</th>\n",
       "      <th>aum_amnt_Current accounts</th>\n",
       "      <th>aum_amnt_ILI</th>\n",
       "      <th>aum_amnt_NSJ</th>\n",
       "      <th>aum_amnt_Time account</th>\n",
       "      <th>aum_amnt_UK</th>\n",
       "      <th>aum_amnt_sum</th>\n",
       "    </tr>\n",
       "    <tr>\n",
       "      <th>client_id</th>\n",
       "      <th></th>\n",
       "      <th></th>\n",
       "      <th></th>\n",
       "      <th></th>\n",
       "      <th></th>\n",
       "      <th></th>\n",
       "      <th></th>\n",
       "    </tr>\n",
       "  </thead>\n",
       "  <tbody>\n",
       "    <tr>\n",
       "      <th>-9220236243053692422</th>\n",
       "      <td>0.0</td>\n",
       "      <td>8552.0</td>\n",
       "      <td>0.0</td>\n",
       "      <td>0.0</td>\n",
       "      <td>0.0</td>\n",
       "      <td>0.0</td>\n",
       "      <td>8552.0</td>\n",
       "    </tr>\n",
       "    <tr>\n",
       "      <th>-9220233431709087652</th>\n",
       "      <td>0.0</td>\n",
       "      <td>52.0</td>\n",
       "      <td>0.0</td>\n",
       "      <td>0.0</td>\n",
       "      <td>0.0</td>\n",
       "      <td>0.0</td>\n",
       "      <td>52.0</td>\n",
       "    </tr>\n",
       "    <tr>\n",
       "      <th>-9219699286371310531</th>\n",
       "      <td>0.0</td>\n",
       "      <td>3532.0</td>\n",
       "      <td>0.0</td>\n",
       "      <td>0.0</td>\n",
       "      <td>0.0</td>\n",
       "      <td>0.0</td>\n",
       "      <td>3532.0</td>\n",
       "    </tr>\n",
       "    <tr>\n",
       "      <th>-9218923580775423458</th>\n",
       "      <td>0.0</td>\n",
       "      <td>0.0</td>\n",
       "      <td>0.0</td>\n",
       "      <td>0.0</td>\n",
       "      <td>0.0</td>\n",
       "      <td>0.0</td>\n",
       "      <td>0.0</td>\n",
       "    </tr>\n",
       "    <tr>\n",
       "      <th>-9218871523310554579</th>\n",
       "      <td>0.0</td>\n",
       "      <td>40937.0</td>\n",
       "      <td>0.0</td>\n",
       "      <td>0.0</td>\n",
       "      <td>0.0</td>\n",
       "      <td>0.0</td>\n",
       "      <td>40937.0</td>\n",
       "    </tr>\n",
       "  </tbody>\n",
       "</table>\n",
       "</div>"
      ],
      "text/plain": [
       "product_code          aum_amnt_Broker  aum_amnt_Current accounts  \\\n",
       "client_id                                                          \n",
       "-9220236243053692422              0.0                     8552.0   \n",
       "-9220233431709087652              0.0                       52.0   \n",
       "-9219699286371310531              0.0                     3532.0   \n",
       "-9218923580775423458              0.0                        0.0   \n",
       "-9218871523310554579              0.0                    40937.0   \n",
       "\n",
       "product_code          aum_amnt_ILI  aum_amnt_NSJ  aum_amnt_Time account  \\\n",
       "client_id                                                                 \n",
       "-9220236243053692422           0.0           0.0                    0.0   \n",
       "-9220233431709087652           0.0           0.0                    0.0   \n",
       "-9219699286371310531           0.0           0.0                    0.0   \n",
       "-9218923580775423458           0.0           0.0                    0.0   \n",
       "-9218871523310554579           0.0           0.0                    0.0   \n",
       "\n",
       "product_code          aum_amnt_UK  aum_amnt_sum  \n",
       "client_id                                        \n",
       "-9220236243053692422          0.0        8552.0  \n",
       "-9220233431709087652          0.0          52.0  \n",
       "-9219699286371310531          0.0        3532.0  \n",
       "-9218923580775423458          0.0           0.0  \n",
       "-9218871523310554579          0.0       40937.0  "
      ]
     },
     "execution_count": 7,
     "metadata": {},
     "output_type": "execute_result"
    }
   ],
   "source": [
    "df_grouped = df_aum.sort_values(by='month_end_dt')\\\n",
    "    .groupby(['client_id', 'product_code'])['balance_rur_amt'].apply(lambda r: r.iloc[-1])\n",
    "df_grouped = df_grouped.unstack('product_code').fillna(0)\n",
    "df_grouped['sum'] = df_grouped.sum(axis=1).values\n",
    "df_grouped = df_grouped.add_prefix('aum_amnt_')\n",
    "df_grouped.head()"
   ]
  },
  {
   "cell_type": "code",
   "execution_count": 8,
   "id": "dd030742",
   "metadata": {},
   "outputs": [],
   "source": [
    "df_grouped.to_csv('aum_features.csv')"
   ]
  },
  {
   "cell_type": "code",
   "execution_count": null,
   "id": "6a206453",
   "metadata": {},
   "outputs": [],
   "source": []
  }
 ],
 "metadata": {
  "kernelspec": {
   "display_name": "Python 3",
   "language": "python",
   "name": "python3"
  },
  "language_info": {
   "codemirror_mode": {
    "name": "ipython",
    "version": 3
   },
   "file_extension": ".py",
   "mimetype": "text/x-python",
   "name": "python",
   "nbconvert_exporter": "python",
   "pygments_lexer": "ipython3",
   "version": "3.8.5"
  }
 },
 "nbformat": 4,
 "nbformat_minor": 5
}
