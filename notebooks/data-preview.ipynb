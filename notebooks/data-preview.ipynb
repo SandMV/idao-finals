{
 "cells": [
  {
   "cell_type": "code",
   "execution_count": 1,
   "id": "superior-nursing",
   "metadata": {},
   "outputs": [],
   "source": [
    "%matplotlib inline\n",
    "\n",
    "%load_ext autoreload\n",
    "%autoreload 2\n",
    "%config IPCompleter.use_jedi = False"
   ]
  },
  {
   "cell_type": "code",
   "execution_count": 2,
   "id": "sonic-honor",
   "metadata": {},
   "outputs": [],
   "source": [
    "import pandas as pd\n",
    "import numpy as np\n",
    "from numpy import random as rnd\n",
    "import scipy as sp\n",
    "\n",
    "import matplotlib as mpl\n",
    "import matplotlib.pyplot as plt\n",
    "mpl.rcParams['figure.figsize'] = (20, 10)\n",
    "\n",
    "import sklearn\n",
    "from sklearn.ensemble import RandomForestClassifier\n",
    "from sklearn.model_selection import KFold\n",
    "from sklearn.metrics import (\n",
    "    roc_auc_score, recall_score, precision_score, f1_score, accuracy_score\n",
    ")\n",
    "import os\n",
    "from os import path\n",
    "from operator import itemgetter\n",
    "from itertools import chain, islice\n",
    "from functools import reduce"
   ]
  },
  {
   "cell_type": "code",
   "execution_count": 3,
   "id": "downtown-connection",
   "metadata": {},
   "outputs": [],
   "source": [
    "RS = rnd.RandomState(rnd.MT19937(rnd.SeedSequence(42)))"
   ]
  },
  {
   "cell_type": "code",
   "execution_count": 4,
   "id": "judicial-samuel",
   "metadata": {},
   "outputs": [
    {
     "name": "stdout",
     "output_type": "stream",
     "text": [
      "appl.csv  balance.csv  com.csv\t  dict_mcc.csv\tpayments.csv\r\n",
      "aum.csv   client.csv   deals.csv  funnel.csv\ttrxn.csv\r\n"
     ]
    }
   ],
   "source": [
    "!ls ../data/"
   ]
  },
  {
   "cell_type": "code",
   "execution_count": 5,
   "id": "mediterranean-sellers",
   "metadata": {},
   "outputs": [],
   "source": [
    "DATA = '../data'\n",
    "\n",
    "DEALS = path.join(DATA, 'deals.csv')\n",
    "TRANSACTIONS = path.join(DATA, 'trxn.csv')\n",
    "CLIENTS = path.join(DATA, 'client.csv')\n",
    "MCC_INFO = path.join(DATA, 'dict_mcc.csv')\n",
    "AUM_INFO = path.join(DATA, 'aum.csv')\n",
    "BALANCE_INFO = path.join(DATA, 'balance.csv')\n",
    "CALL_INFO = path.join(DATA, 'appl.csv')\n",
    "TARGET_INFO = path.join(DATA, 'funnel.csv')"
   ]
  },
  {
   "cell_type": "code",
   "execution_count": 6,
   "id": "rubber-spyware",
   "metadata": {},
   "outputs": [],
   "source": [
    "target = pd.read_csv(TARGET_INFO, sep=',')"
   ]
  },
  {
   "cell_type": "code",
   "execution_count": 7,
   "id": "indonesian-batman",
   "metadata": {},
   "outputs": [
    {
     "data": {
      "text/plain": [
       "(21498, 16)"
      ]
     },
     "execution_count": 7,
     "metadata": {},
     "output_type": "execute_result"
    }
   ],
   "source": [
    "target.shape"
   ]
  },
  {
   "cell_type": "code",
   "execution_count": 8,
   "id": "mighty-apollo",
   "metadata": {},
   "outputs": [
    {
     "data": {
      "text/html": [
       "<div>\n",
       "<style scoped>\n",
       "    .dataframe tbody tr th:only-of-type {\n",
       "        vertical-align: middle;\n",
       "    }\n",
       "\n",
       "    .dataframe tbody tr th {\n",
       "        vertical-align: top;\n",
       "    }\n",
       "\n",
       "    .dataframe thead th {\n",
       "        text-align: right;\n",
       "    }\n",
       "</style>\n",
       "<table border=\"1\" class=\"dataframe\">\n",
       "  <thead>\n",
       "    <tr style=\"text-align: right;\">\n",
       "      <th></th>\n",
       "      <th>client_id</th>\n",
       "      <th>sale_flg</th>\n",
       "      <th>sale_amount</th>\n",
       "      <th>contacts</th>\n",
       "      <th>feature_1</th>\n",
       "      <th>client_segment</th>\n",
       "      <th>feature_2</th>\n",
       "      <th>feature_3</th>\n",
       "      <th>feature_4</th>\n",
       "      <th>feature_5</th>\n",
       "      <th>feature_6</th>\n",
       "      <th>feature_7</th>\n",
       "      <th>feature_8</th>\n",
       "      <th>feature_9</th>\n",
       "      <th>feature_10</th>\n",
       "      <th>region_cd</th>\n",
       "    </tr>\n",
       "  </thead>\n",
       "  <tbody>\n",
       "    <tr>\n",
       "      <th>0</th>\n",
       "      <td>7513301859607023584</td>\n",
       "      <td>0</td>\n",
       "      <td>NaN</td>\n",
       "      <td>1</td>\n",
       "      <td>7</td>\n",
       "      <td>13.0</td>\n",
       "      <td>571533.0</td>\n",
       "      <td>15717.0</td>\n",
       "      <td>0.0</td>\n",
       "      <td>0.0</td>\n",
       "      <td>0.0</td>\n",
       "      <td>571852.0</td>\n",
       "      <td>472605.0</td>\n",
       "      <td>10.4</td>\n",
       "      <td>12548.0</td>\n",
       "      <td>86.0</td>\n",
       "    </tr>\n",
       "    <tr>\n",
       "      <th>1</th>\n",
       "      <td>9157009756404187626</td>\n",
       "      <td>0</td>\n",
       "      <td>NaN</td>\n",
       "      <td>1</td>\n",
       "      <td>3</td>\n",
       "      <td>13.0</td>\n",
       "      <td>3642369.0</td>\n",
       "      <td>94787.0</td>\n",
       "      <td>0.0</td>\n",
       "      <td>0.0</td>\n",
       "      <td>84823.0</td>\n",
       "      <td>3642369.0</td>\n",
       "      <td>3314257.0</td>\n",
       "      <td>8.9</td>\n",
       "      <td>77210.0</td>\n",
       "      <td>2.0</td>\n",
       "    </tr>\n",
       "    <tr>\n",
       "      <th>2</th>\n",
       "      <td>-1893104556496814867</td>\n",
       "      <td>0</td>\n",
       "      <td>NaN</td>\n",
       "      <td>1</td>\n",
       "      <td>5</td>\n",
       "      <td>16.0</td>\n",
       "      <td>352826.0</td>\n",
       "      <td>5500.0</td>\n",
       "      <td>0.0</td>\n",
       "      <td>6822.0</td>\n",
       "      <td>0.0</td>\n",
       "      <td>265893.0</td>\n",
       "      <td>204534.0</td>\n",
       "      <td>8.9</td>\n",
       "      <td>5508.0</td>\n",
       "      <td>52.0</td>\n",
       "    </tr>\n",
       "    <tr>\n",
       "      <th>3</th>\n",
       "      <td>6886062013213911831</td>\n",
       "      <td>0</td>\n",
       "      <td>NaN</td>\n",
       "      <td>1</td>\n",
       "      <td>4</td>\n",
       "      <td>3.0</td>\n",
       "      <td>6070615.0</td>\n",
       "      <td>40580.0</td>\n",
       "      <td>0.0</td>\n",
       "      <td>30401.0</td>\n",
       "      <td>0.0</td>\n",
       "      <td>2005731.0</td>\n",
       "      <td>1825051.0</td>\n",
       "      <td>7.9</td>\n",
       "      <td>40583.0</td>\n",
       "      <td>86.0</td>\n",
       "    </tr>\n",
       "    <tr>\n",
       "      <th>4</th>\n",
       "      <td>-8156468515495593794</td>\n",
       "      <td>1</td>\n",
       "      <td>138018.05</td>\n",
       "      <td>1</td>\n",
       "      <td>7</td>\n",
       "      <td>14.0</td>\n",
       "      <td>3642369.0</td>\n",
       "      <td>97156.0</td>\n",
       "      <td>81488.0</td>\n",
       "      <td>0.0</td>\n",
       "      <td>160308.0</td>\n",
       "      <td>3642369.0</td>\n",
       "      <td>3314257.0</td>\n",
       "      <td>10.4</td>\n",
       "      <td>78108.0</td>\n",
       "      <td>27.0</td>\n",
       "    </tr>\n",
       "  </tbody>\n",
       "</table>\n",
       "</div>"
      ],
      "text/plain": [
       "             client_id  sale_flg  sale_amount  contacts  feature_1  \\\n",
       "0  7513301859607023584         0          NaN         1          7   \n",
       "1  9157009756404187626         0          NaN         1          3   \n",
       "2 -1893104556496814867         0          NaN         1          5   \n",
       "3  6886062013213911831         0          NaN         1          4   \n",
       "4 -8156468515495593794         1    138018.05         1          7   \n",
       "\n",
       "   client_segment  feature_2  feature_3  feature_4  feature_5  feature_6  \\\n",
       "0            13.0   571533.0    15717.0        0.0        0.0        0.0   \n",
       "1            13.0  3642369.0    94787.0        0.0        0.0    84823.0   \n",
       "2            16.0   352826.0     5500.0        0.0     6822.0        0.0   \n",
       "3             3.0  6070615.0    40580.0        0.0    30401.0        0.0   \n",
       "4            14.0  3642369.0    97156.0    81488.0        0.0   160308.0   \n",
       "\n",
       "   feature_7  feature_8  feature_9  feature_10  region_cd  \n",
       "0   571852.0   472605.0       10.4     12548.0       86.0  \n",
       "1  3642369.0  3314257.0        8.9     77210.0        2.0  \n",
       "2   265893.0   204534.0        8.9      5508.0       52.0  \n",
       "3  2005731.0  1825051.0        7.9     40583.0       86.0  \n",
       "4  3642369.0  3314257.0       10.4     78108.0       27.0  "
      ]
     },
     "execution_count": 8,
     "metadata": {},
     "output_type": "execute_result"
    }
   ],
   "source": [
    "target.head()"
   ]
  },
  {
   "cell_type": "code",
   "execution_count": 9,
   "id": "rubber-deposit",
   "metadata": {},
   "outputs": [
    {
     "data": {
      "text/plain": [
       "client_id             0\n",
       "sale_flg              0\n",
       "sale_amount       17979\n",
       "contacts              0\n",
       "feature_1             0\n",
       "client_segment        0\n",
       "feature_2             0\n",
       "feature_3             0\n",
       "feature_4             0\n",
       "feature_5             0\n",
       "feature_6             0\n",
       "feature_7            11\n",
       "feature_8            11\n",
       "feature_9            11\n",
       "feature_10           11\n",
       "region_cd            34\n",
       "dtype: int64"
      ]
     },
     "execution_count": 9,
     "metadata": {},
     "output_type": "execute_result"
    }
   ],
   "source": [
    "target.isna().sum(axis=0)"
   ]
  },
  {
   "cell_type": "markdown",
   "id": "respective-brass",
   "metadata": {},
   "source": [
    "Информативность:"
   ]
  },
  {
   "cell_type": "code",
   "execution_count": 10,
   "id": "imported-kennedy",
   "metadata": {},
   "outputs": [
    {
     "data": {
      "image/png": "[encoded data removed]",
      "text/plain": [
       "<Figure size 1440x720 with 16 Axes>"
      ]
     },
     "metadata": {
      "needs_background": "light"
     },
     "output_type": "display_data"
    }
   ],
   "source": [
    "target.hist()\n",
    "plt.show()"
   ]
  },
  {
   "cell_type": "code",
   "execution_count": 11,
   "id": "strategic-console",
   "metadata": {},
   "outputs": [
    {
     "data": {
      "image/png": "[encoded data removed]",
      "text/plain": [
       "<Figure size 1440x720 with 9 Axes>"
      ]
     },
     "metadata": {
      "needs_background": "light"
     },
     "output_type": "display_data"
    }
   ],
   "source": [
    "target[['feature_2', 'feature_3', 'feature_4', 'feature_5', 'feature_6', 'feature_7', 'feature_8']].applymap(np.log1p).hist()\n",
    "plt.show()"
   ]
  },
  {
   "cell_type": "markdown",
   "id": "driven-guinea",
   "metadata": {},
   "source": [
    "Let's add some categorical variables:"
   ]
  },
  {
   "cell_type": "code",
   "execution_count": 12,
   "id": "aboriginal-annotation",
   "metadata": {},
   "outputs": [],
   "source": [
    "target['feature_5_0'] = target.feature_5 < 1e-10\n",
    "target['feature_5_1'] = target.feature_5 > 1e-10"
   ]
  },
  {
   "cell_type": "code",
   "execution_count": 13,
   "id": "complete-island",
   "metadata": {},
   "outputs": [],
   "source": [
    "target['feature_4_0'] = target.feature_4 < 1e-10\n",
    "target['feature_4_1'] = target.feature_4 > 1e-10"
   ]
  },
  {
   "cell_type": "code",
   "execution_count": 14,
   "id": "collaborative-ordinary",
   "metadata": {},
   "outputs": [],
   "source": [
    "target.feature_7 = target.feature_7.fillna(target.feature_7.mode()[0])\n",
    "target.feature_8 = target.feature_8.fillna(target.feature_8.mode()[0])\n",
    "target.feature_9 = target.feature_9.fillna(target.feature_9.mode()[0])\n",
    "target.feature_10 = target.feature_10.fillna(target.feature_10.mode()[0])"
   ]
  },
  {
   "cell_type": "code",
   "execution_count": 15,
   "id": "united-rabbit",
   "metadata": {},
   "outputs": [],
   "source": [
    "client = pd.read_csv(CLIENTS, sep=',')"
   ]
  },
  {
   "cell_type": "code",
   "execution_count": 16,
   "id": "received-forestry",
   "metadata": {},
   "outputs": [
    {
     "data": {
      "text/html": [
       "<div>\n",
       "<style scoped>\n",
       "    .dataframe tbody tr th:only-of-type {\n",
       "        vertical-align: middle;\n",
       "    }\n",
       "\n",
       "    .dataframe tbody tr th {\n",
       "        vertical-align: top;\n",
       "    }\n",
       "\n",
       "    .dataframe thead th {\n",
       "        text-align: right;\n",
       "    }\n",
       "</style>\n",
       "<table border=\"1\" class=\"dataframe\">\n",
       "  <thead>\n",
       "    <tr style=\"text-align: right;\">\n",
       "      <th></th>\n",
       "      <th>client_id</th>\n",
       "      <th>gender</th>\n",
       "      <th>age</th>\n",
       "      <th>region</th>\n",
       "      <th>city</th>\n",
       "      <th>citizenship</th>\n",
       "      <th>education</th>\n",
       "      <th>job_type</th>\n",
       "    </tr>\n",
       "  </thead>\n",
       "  <tbody>\n",
       "    <tr>\n",
       "      <th>0</th>\n",
       "      <td>7513301859607023584</td>\n",
       "      <td>F</td>\n",
       "      <td>33.0</td>\n",
       "      <td>0</td>\n",
       "      <td>115</td>\n",
       "      <td>RUSSIA</td>\n",
       "      <td>NaN</td>\n",
       "      <td>NaN</td>\n",
       "    </tr>\n",
       "    <tr>\n",
       "      <th>1</th>\n",
       "      <td>9157009756404187626</td>\n",
       "      <td>F</td>\n",
       "      <td>59.0</td>\n",
       "      <td>17</td>\n",
       "      <td>668</td>\n",
       "      <td>RUSSIA</td>\n",
       "      <td>NaN</td>\n",
       "      <td>NaN</td>\n",
       "    </tr>\n",
       "    <tr>\n",
       "      <th>2</th>\n",
       "      <td>-1893104556496814867</td>\n",
       "      <td>M</td>\n",
       "      <td>51.0</td>\n",
       "      <td>28</td>\n",
       "      <td>65</td>\n",
       "      <td>RUSSIA</td>\n",
       "      <td>NaN</td>\n",
       "      <td>NaN</td>\n",
       "    </tr>\n",
       "    <tr>\n",
       "      <th>3</th>\n",
       "      <td>6886062013213911831</td>\n",
       "      <td>F</td>\n",
       "      <td>56.0</td>\n",
       "      <td>0</td>\n",
       "      <td>40</td>\n",
       "      <td>RUSSIA</td>\n",
       "      <td>NaN</td>\n",
       "      <td>NaN</td>\n",
       "    </tr>\n",
       "    <tr>\n",
       "      <th>4</th>\n",
       "      <td>-8156468515495593794</td>\n",
       "      <td>F</td>\n",
       "      <td>34.0</td>\n",
       "      <td>-1</td>\n",
       "      <td>-1</td>\n",
       "      <td>RUSSIA</td>\n",
       "      <td>HIGHER_PROFESSIONAL</td>\n",
       "      <td>NaN</td>\n",
       "    </tr>\n",
       "  </tbody>\n",
       "</table>\n",
       "</div>"
      ],
      "text/plain": [
       "             client_id gender   age  region  city citizenship  \\\n",
       "0  7513301859607023584      F  33.0       0   115      RUSSIA   \n",
       "1  9157009756404187626      F  59.0      17   668      RUSSIA   \n",
       "2 -1893104556496814867      M  51.0      28    65      RUSSIA   \n",
       "3  6886062013213911831      F  56.0       0    40      RUSSIA   \n",
       "4 -8156468515495593794      F  34.0      -1    -1      RUSSIA   \n",
       "\n",
       "             education job_type  \n",
       "0                  NaN      NaN  \n",
       "1                  NaN      NaN  \n",
       "2                  NaN      NaN  \n",
       "3                  NaN      NaN  \n",
       "4  HIGHER_PROFESSIONAL      NaN  "
      ]
     },
     "execution_count": 16,
     "metadata": {},
     "output_type": "execute_result"
    }
   ],
   "source": [
    "client.head()"
   ]
  },
  {
   "cell_type": "code",
   "execution_count": 17,
   "id": "general-evidence",
   "metadata": {},
   "outputs": [
    {
     "data": {
      "text/plain": [
       "175"
      ]
     },
     "execution_count": 17,
     "metadata": {},
     "output_type": "execute_result"
    }
   ],
   "source": [
    "(client.city == -1).sum()"
   ]
  },
  {
   "cell_type": "code",
   "execution_count": 18,
   "id": "separated-concert",
   "metadata": {},
   "outputs": [
    {
     "data": {
      "text/plain": [
       "166"
      ]
     },
     "execution_count": 18,
     "metadata": {},
     "output_type": "execute_result"
    }
   ],
   "source": [
    "(client.region == -1).sum()"
   ]
  },
  {
   "cell_type": "code",
   "execution_count": 19,
   "id": "thirty-child",
   "metadata": {},
   "outputs": [
    {
     "data": {
      "text/plain": [
       "client_id          0\n",
       "gender             3\n",
       "age                3\n",
       "region             0\n",
       "city               0\n",
       "citizenship        5\n",
       "education      12218\n",
       "job_type       21423\n",
       "dtype: int64"
      ]
     },
     "execution_count": 19,
     "metadata": {},
     "output_type": "execute_result"
    }
   ],
   "source": [
    "client.isna().sum(axis=0)"
   ]
  },
  {
   "cell_type": "code",
   "execution_count": 20,
   "id": "prime-enemy",
   "metadata": {},
   "outputs": [
    {
     "data": {
      "image/png": "[encoded data removed]",
      "text/plain": [
       "<Figure size 1440x720 with 4 Axes>"
      ]
     },
     "metadata": {
      "needs_background": "light"
     },
     "output_type": "display_data"
    }
   ],
   "source": [
    "client.hist()\n",
    "plt.show()"
   ]
  },
  {
   "cell_type": "markdown",
   "id": "crude-fluid",
   "metadata": {},
   "source": [
    "Let's drop this column for now:"
   ]
  },
  {
   "cell_type": "code",
   "execution_count": 21,
   "id": "ethical-transcription",
   "metadata": {},
   "outputs": [
    {
     "data": {
      "text/plain": [
       "NaN                21423\n",
       "RETIRED               40\n",
       "STUDENT               15\n",
       "BUSINESS              15\n",
       "MATERNITY_LEAVE        4\n",
       "MILITARY               1\n",
       "Name: job_type, dtype: int64"
      ]
     },
     "execution_count": 21,
     "metadata": {},
     "output_type": "execute_result"
    }
   ],
   "source": [
    "client.job_type.value_counts(dropna=False)"
   ]
  },
  {
   "cell_type": "markdown",
   "id": "north-wagner",
   "metadata": {},
   "source": [
    "That's fine:"
   ]
  },
  {
   "cell_type": "code",
   "execution_count": 22,
   "id": "eight-network",
   "metadata": {},
   "outputs": [
    {
     "data": {
      "text/plain": [
       "NaN                            12218\n",
       "HIGHER_PROFESSIONAL             4463\n",
       "MIDDLE_PROFESSIONAL             3550\n",
       "FULL_GENERAL                     606\n",
       "HIGHER_PROFESSIONAL_PARTIAL      258\n",
       "PRIMARY_PROFESSIONAL             238\n",
       "TWO_AND_MORE_HIGHER              147\n",
       "SCHOLASTIC_DEGREE                 18\n",
       "Name: education, dtype: int64"
      ]
     },
     "execution_count": 22,
     "metadata": {},
     "output_type": "execute_result"
    }
   ],
   "source": [
    "client.education.value_counts(dropna=False)"
   ]
  },
  {
   "cell_type": "code",
   "execution_count": 23,
   "id": "neither-travel",
   "metadata": {},
   "outputs": [],
   "source": [
    "client.loc[client.education.isna(), 'education'] = 'MISSING'"
   ]
  },
  {
   "cell_type": "code",
   "execution_count": 24,
   "id": "incredible-observer",
   "metadata": {},
   "outputs": [
    {
     "data": {
      "text/plain": [
       "RUSSIA     21492\n",
       "UKRAINE        1\n",
       "Name: citizenship, dtype: int64"
      ]
     },
     "execution_count": 24,
     "metadata": {},
     "output_type": "execute_result"
    }
   ],
   "source": [
    "client.citizenship.value_counts()"
   ]
  },
  {
   "cell_type": "markdown",
   "id": "joint-platform",
   "metadata": {},
   "source": [
    "Glue together the rarest cities:"
   ]
  },
  {
   "cell_type": "code",
   "execution_count": 25,
   "id": "facial-better",
   "metadata": {},
   "outputs": [
    {
     "data": {
      "text/plain": [
       "2687"
      ]
     },
     "execution_count": 25,
     "metadata": {},
     "output_type": "execute_result"
    }
   ],
   "source": [
    "client.city[client.city > 1000].count()"
   ]
  },
  {
   "cell_type": "code",
   "execution_count": 26,
   "id": "impressed-connecticut",
   "metadata": {},
   "outputs": [],
   "source": [
    "client.loc[(client.city > 1000) | (client.city == -1), 'city'] = 1001"
   ]
  },
  {
   "cell_type": "markdown",
   "id": "vocational-tomorrow",
   "metadata": {},
   "source": [
    "Same for regions:"
   ]
  },
  {
   "cell_type": "code",
   "execution_count": 27,
   "id": "pacific-accreditation",
   "metadata": {},
   "outputs": [
    {
     "data": {
      "text/plain": [
       "714"
      ]
     },
     "execution_count": 27,
     "metadata": {},
     "output_type": "execute_result"
    }
   ],
   "source": [
    "client.region[client.region > 60].count()"
   ]
  },
  {
   "cell_type": "code",
   "execution_count": 28,
   "id": "personalized-charles",
   "metadata": {},
   "outputs": [],
   "source": [
    "client.loc[(client.region > 60) | (client.region == -1), 'region'] = 61"
   ]
  },
  {
   "cell_type": "code",
   "execution_count": 29,
   "id": "animal-frederick",
   "metadata": {},
   "outputs": [
    {
     "data": {
      "text/plain": [
       "F      11116\n",
       "M      10379\n",
       "NaN        3\n",
       "Name: gender, dtype: int64"
      ]
     },
     "execution_count": 29,
     "metadata": {},
     "output_type": "execute_result"
    }
   ],
   "source": [
    "client.gender.value_counts(dropna=False)"
   ]
  },
  {
   "cell_type": "markdown",
   "id": "composed-infrared",
   "metadata": {},
   "source": [
    "Fill with the most common value:"
   ]
  },
  {
   "cell_type": "code",
   "execution_count": 30,
   "id": "welsh-biodiversity",
   "metadata": {},
   "outputs": [],
   "source": [
    "client.gender = client.gender.fillna(value='F')"
   ]
  },
  {
   "cell_type": "code",
   "execution_count": 31,
   "id": "authentic-shakespeare",
   "metadata": {},
   "outputs": [],
   "source": [
    "client.age = client.age.fillna(client.age.mode()[0])"
   ]
  },
  {
   "cell_type": "code",
   "execution_count": 32,
   "id": "announced-kenya",
   "metadata": {},
   "outputs": [],
   "source": [
    "client = pd.concat(\n",
    "    [\n",
    "        client.drop(['education', 'job_type', 'citizenship', 'region', 'city', 'gender'], axis=1), \n",
    "        pd.get_dummies(client.education, prefix='ED'),\n",
    "        pd.get_dummies(client.region, prefix='REG'),\n",
    "        pd.get_dummies(client.city, prefix='CIT'),\n",
    "        pd.get_dummies(client.gender, prefix='GEN')\n",
    "    ],\n",
    "    axis=1\n",
    ")"
   ]
  },
  {
   "cell_type": "code",
   "execution_count": 33,
   "id": "cloudy-sugar",
   "metadata": {},
   "outputs": [
    {
     "data": {
      "text/plain": [
       "Index(['client_id', 'age', 'ED_FULL_GENERAL', 'ED_HIGHER_PROFESSIONAL',\n",
       "       'ED_HIGHER_PROFESSIONAL_PARTIAL', 'ED_MIDDLE_PROFESSIONAL',\n",
       "       'ED_MISSING', 'ED_PRIMARY_PROFESSIONAL', 'ED_SCHOLASTIC_DEGREE',\n",
       "       'ED_TWO_AND_MORE_HIGHER',\n",
       "       ...\n",
       "       'CIT_982', 'CIT_985', 'CIT_987', 'CIT_988', 'CIT_992', 'CIT_993',\n",
       "       'CIT_995', 'CIT_1001', 'GEN_F', 'GEN_M'],\n",
       "      dtype='object', length=819)"
      ]
     },
     "execution_count": 33,
     "metadata": {},
     "output_type": "execute_result"
    }
   ],
   "source": [
    "client.columns"
   ]
  },
  {
   "cell_type": "code",
   "execution_count": 34,
   "id": "expanded-alabama",
   "metadata": {},
   "outputs": [],
   "source": [
    "target = target.set_index('client_id')\n",
    "client = client.set_index('client_id')"
   ]
  },
  {
   "cell_type": "code",
   "execution_count": 35,
   "id": "current-grove",
   "metadata": {},
   "outputs": [
    {
     "data": {
      "text/plain": [
       "((21498, 19), (21498, 818))"
      ]
     },
     "execution_count": 35,
     "metadata": {},
     "output_type": "execute_result"
    }
   ],
   "source": [
    "target.shape, client.shape"
   ]
  },
  {
   "cell_type": "markdown",
   "id": "blank-action",
   "metadata": {},
   "source": [
    "No new columns added, yay!"
   ]
  },
  {
   "cell_type": "code",
   "execution_count": 36,
   "id": "pressed-somerset",
   "metadata": {},
   "outputs": [
    {
     "data": {
      "text/plain": [
       "(21498, 837)"
      ]
     },
     "execution_count": 36,
     "metadata": {},
     "output_type": "execute_result"
    }
   ],
   "source": [
    "pd_train = target.join(client)\n",
    "pd_train.shape"
   ]
  },
  {
   "cell_type": "code",
   "execution_count": 37,
   "id": "earlier-compilation",
   "metadata": {},
   "outputs": [],
   "source": [
    "folds = []\n",
    "for i in range(5):\n",
    "    with open(f'../folds/fold_{i}_train.txt', mode='r') as inp:\n",
    "        tr = np.array([*map(int, inp)])\n",
    "    with open(f'../folds/fold_{i}_test.txt', mode='r') as inp:\n",
    "        te = np.array([*map(int, inp)])\n",
    "    folds.append((tr, te))"
   ]
  },
  {
   "cell_type": "code",
   "execution_count": 38,
   "id": "environmental-taiwan",
   "metadata": {},
   "outputs": [
    {
     "data": {
      "text/plain": [
       "Index(['sale_amount', 'region_cd'], dtype='object')"
      ]
     },
     "execution_count": 38,
     "metadata": {},
     "output_type": "execute_result"
    }
   ],
   "source": [
    "pd_train.columns[pd_train.isna().sum(axis=0) > 0]"
   ]
  },
  {
   "cell_type": "code",
   "execution_count": 39,
   "id": "large-tokyo",
   "metadata": {},
   "outputs": [],
   "source": [
    "y = pd_train.sale_flg.to_numpy()\n",
    "earn = pd_train.sale_amount.fillna(0).to_numpy()\n",
    "cont = pd_train.contacts.to_numpy()\n",
    "X = pd_train.drop(['sale_flg', 'sale_amount', 'contacts', 'region_cd'], axis=1).to_numpy()"
   ]
  },
  {
   "cell_type": "code",
   "execution_count": 40,
   "id": "criminal-panic",
   "metadata": {},
   "outputs": [],
   "source": [
    "preds = []\n",
    "labs = []\n",
    "\n",
    "earnings = []\n",
    "contacts_cnt = []\n",
    "\n",
    "for train_idxs, test_idxs in folds:\n",
    "    X_train = pd_train.loc[train_idxs] \\\n",
    "        .drop(['sale_flg', 'sale_amount', 'contacts', 'region_cd'], axis=1).to_numpy()\n",
    "    y_train = pd_train.loc[train_idxs] \\\n",
    "        .sale_flg.to_numpy()\n",
    "\n",
    "    \n",
    "    X_test = pd_train.loc[test_idxs] \\\n",
    "        .drop(['sale_flg', 'sale_amount', 'contacts', 'region_cd'], axis=1).to_numpy()\n",
    "    y_test = pd_train.loc[test_idxs] \\\n",
    "        .sale_flg.to_numpy()\n",
    "    \n",
    "    earn = pd_train.loc[test_idxs] \\\n",
    "        .sale_amount.fillna(0).to_numpy()\n",
    "    cont = pd_train.loc[test_idxs] \\\n",
    "        .contacts.to_numpy()\n",
    "    \n",
    "    clf = RandomForestClassifier(\n",
    "        n_estimators=1000, \n",
    "        criterion='entropy',\n",
    "        min_samples_leaf=10,\n",
    "        random_state=RS,\n",
    "        max_samples=0.6\n",
    "    ).fit(X_train, y_train)\n",
    "    \n",
    "    preds.append(clf.predict_proba(X_test)[:, 1])\n",
    "    labs.append(y_test)\n",
    "    earnings.append(earn)\n",
    "    contacts_cnt.append(cont)"
   ]
  },
  {
   "cell_type": "code",
   "execution_count": 41,
   "id": "voluntary-eleven",
   "metadata": {},
   "outputs": [],
   "source": [
    "preds = np.hstack(preds)\n",
    "labs = np.hstack(labs)\n",
    "earnings = np.hstack(earnings)\n",
    "contacts_cnt = np.hstack(contacts_cnt)"
   ]
  },
  {
   "cell_type": "code",
   "execution_count": 42,
   "id": "soviet-moses",
   "metadata": {},
   "outputs": [],
   "source": [
    "def metrics(labels, probs, earnings, contacts_cnt, p_thr=0.5):\n",
    "    auc = roc_auc_score(labels, probs)\n",
    "    \n",
    "    pred_labs = probs > p_thr\n",
    "    \n",
    "    acc = accuracy_score(labels, pred_labs)\n",
    "    rec = recall_score(labels, pred_labs)\n",
    "    pre = precision_score(labels, pred_labs)\n",
    "    f1 = f1_score(labels, pred_labs)\n",
    "    target_metric = (pred_labs * earnings - 4000 * contacts_cnt).mean()\n",
    "    \n",
    "    return auc, acc, rec, pre, f1, target_metric"
   ]
  },
  {
   "cell_type": "code",
   "execution_count": 43,
   "id": "bibliographic-blond",
   "metadata": {},
   "outputs": [],
   "source": [
    "auc, acc, rec, pre, f1, trg = metrics(labs, preds, earnings, contacts_cnt, .03)"
   ]
  },
  {
   "cell_type": "code",
   "execution_count": 44,
   "id": "loaded-satellite",
   "metadata": {},
   "outputs": [
    {
     "name": "stdout",
     "output_type": "stream",
     "text": [
      "auc: 0.910, acc: 0.244, rec: 1.000, pre: 0.177, f1: 0.300\n"
     ]
    }
   ],
   "source": [
    "print(f'auc: {auc:4.3f}, acc: {acc:4.3f}, rec: {rec:4.3f}, pre: {pre:4.3f}, f1: {f1:4.3f}')"
   ]
  },
  {
   "cell_type": "code",
   "execution_count": 45,
   "id": "operating-memorial",
   "metadata": {},
   "outputs": [
    {
     "name": "stdout",
     "output_type": "stream",
     "text": [
      "target: 2744.051710\n"
     ]
    }
   ],
   "source": [
    "print(f'target: {trg:f}')"
   ]
  }
 ],
 "metadata": {
  "kernelspec": {
   "display_name": "Python 3",
   "language": "python",
   "name": "python3"
  },
  "language_info": {
   "codemirror_mode": {
    "name": "ipython",
    "version": 3
   },
   "file_extension": ".py",
   "mimetype": "text/x-python",
   "name": "python",
   "nbconvert_exporter": "python",
   "pygments_lexer": "ipython3",
   "version": "3.8.5"
  }
 },
 "nbformat": 4,
 "nbformat_minor": 5
}
