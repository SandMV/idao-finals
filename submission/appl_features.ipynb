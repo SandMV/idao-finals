{
 "cells": [
  {
   "cell_type": "code",
   "execution_count": 1,
   "id": "f750231d",
   "metadata": {},
   "outputs": [],
   "source": [
    "import numpy as np\n",
    "import pandas as pd\n",
    "\n",
    "from tqdm.notebook import tqdm"
   ]
  },
  {
   "cell_type": "code",
   "execution_count": 2,
   "id": "2ba8e80e",
   "metadata": {},
   "outputs": [
    {
     "name": "stdout",
     "output_type": "stream",
     "text": [
      "total 580596\r\n",
      "-rw------- 1 v.bugaevskii v.bugaevskii    904039 Apr 17 11:12 appl.csv\r\n",
      "-rw------- 1 v.bugaevskii v.bugaevskii   6577695 Apr 17 11:12 aum.csv\r\n",
      "-rw------- 1 v.bugaevskii v.bugaevskii  91636746 Apr 17 11:12 balance.csv\r\n",
      "-rw------- 1 v.bugaevskii v.bugaevskii   1110765 Apr 17 11:12 client.csv\r\n",
      "-rw------- 1 v.bugaevskii v.bugaevskii   6686165 Apr 17 11:12 com.csv\r\n",
      "-rw------- 1 v.bugaevskii v.bugaevskii   7499804 Apr 17 11:12 deals.csv\r\n",
      "-rw------- 1 v.bugaevskii v.bugaevskii     18979 Apr 17 11:12 dict_mcc.csv\r\n",
      "-rw------- 1 v.bugaevskii v.bugaevskii   2322389 Apr 17 11:12 funnel.csv\r\n",
      "-rw------- 1 v.bugaevskii v.bugaevskii  10553763 Apr 17 11:12 payments.csv\r\n",
      "-rw------- 1 v.bugaevskii v.bugaevskii 467193115 Apr 17 11:12 trxn.csv\r\n"
     ]
    }
   ],
   "source": [
    "!ls -l ../data/"
   ]
  },
  {
   "cell_type": "code",
   "execution_count": 3,
   "id": "4e3adefc",
   "metadata": {},
   "outputs": [],
   "source": [
    "from pathlib import Path"
   ]
  },
  {
   "cell_type": "code",
   "execution_count": 4,
   "id": "a81615c2",
   "metadata": {},
   "outputs": [
    {
     "data": {
      "application/vnd.jupyter.widget-view+json": {
       "model_id": "f01e879d31404672892b5580ba86835b",
       "version_major": 2,
       "version_minor": 0
      },
      "text/plain": [
       "  0%|          | 0/10 [00:00<?, ?it/s]"
      ]
     },
     "metadata": {},
     "output_type": "display_data"
    },
    {
     "name": "stdout",
     "output_type": "stream",
     "text": [
      "../data/appl.csv saved to df_appl; df_appl.shape = (12030, 6)\n",
      "../data/aum.csv saved to df_aum; df_aum.shape = (117392, 4)\n",
      "../data/balance.csv saved to df_balance; df_balance.shape = (1194684, 9)\n",
      "../data/client.csv saved to df_client; df_client.shape = (21498, 8)\n",
      "../data/com.csv saved to df_com; df_com.shape = (113055, 10)\n",
      "../data/deals.csv saved to df_deals; df_deals.shape = (109016, 8)\n",
      "../data/dict_mcc.csv saved to df_dict_mcc; df_dict_mcc.shape = (915, 3)\n",
      "../data/funnel.csv saved to df_funnel; df_funnel.shape = (21498, 16)\n",
      "../data/payments.csv saved to df_payments; df_payments.shape = (188068, 4)\n"
     ]
    },
    {
     "name": "stderr",
     "output_type": "stream",
     "text": [
      "/home/v.bugaevskii/.conda/envs/idao2021/lib/python3.8/site-packages/IPython/core/interactiveshell.py:3062: DtypeWarning: Columns (10) have mixed types.Specify dtype option on import or set low_memory=False.\n",
      "  has_raised = await self.run_ast_nodes(code_ast.body, cell_name,\n"
     ]
    },
    {
     "name": "stdout",
     "output_type": "stream",
     "text": [
      "../data/trxn.csv saved to df_trxn; df_trxn.shape = (3035705, 11)\n"
     ]
    }
   ],
   "source": [
    "path_df = Path('../data').rglob('*.csv')\n",
    "path_df = sorted(path_df)\n",
    "\n",
    "for path in tqdm(path_df):\n",
    "    df_name = 'df_' + path.name.rsplit('.', 1)[0]\n",
    "    vars()[df_name] = pd.read_csv(path)\n",
    "    print(f'{path} saved to {df_name}; {df_name}.shape = {vars()[df_name].shape}')"
   ]
  },
  {
   "cell_type": "code",
   "execution_count": 5,
   "id": "31de8a2b",
   "metadata": {},
   "outputs": [
    {
     "data": {
      "text/html": [
       "<div>\n",
       "<style scoped>\n",
       "    .dataframe tbody tr th:only-of-type {\n",
       "        vertical-align: middle;\n",
       "    }\n",
       "\n",
       "    .dataframe tbody tr th {\n",
       "        vertical-align: top;\n",
       "    }\n",
       "\n",
       "    .dataframe thead th {\n",
       "        text-align: right;\n",
       "    }\n",
       "</style>\n",
       "<table border=\"1\" class=\"dataframe\">\n",
       "  <thead>\n",
       "    <tr style=\"text-align: right;\">\n",
       "      <th></th>\n",
       "      <th>client_id</th>\n",
       "      <th>month_end_dt</th>\n",
       "      <th>appl_prod_group_name</th>\n",
       "      <th>appl_prod_type_name</th>\n",
       "      <th>appl_stts_name_dc</th>\n",
       "      <th>appl_sale_channel_name</th>\n",
       "    </tr>\n",
       "  </thead>\n",
       "  <tbody>\n",
       "    <tr>\n",
       "      <th>0</th>\n",
       "      <td>6886062013213911831</td>\n",
       "      <td>2018-10-31</td>\n",
       "      <td>PILS</td>\n",
       "      <td>PILS</td>\n",
       "      <td>The consultation is over</td>\n",
       "      <td>Network</td>\n",
       "    </tr>\n",
       "    <tr>\n",
       "      <th>1</th>\n",
       "      <td>4497537671718296975</td>\n",
       "      <td>2018-10-31</td>\n",
       "      <td>PILS</td>\n",
       "      <td>PILS</td>\n",
       "      <td>The consultation is over</td>\n",
       "      <td>Network</td>\n",
       "    </tr>\n",
       "    <tr>\n",
       "      <th>2</th>\n",
       "      <td>1316154201527307743</td>\n",
       "      <td>2018-09-30</td>\n",
       "      <td>PILS</td>\n",
       "      <td>PILS</td>\n",
       "      <td>The consultation is over</td>\n",
       "      <td>Network</td>\n",
       "    </tr>\n",
       "    <tr>\n",
       "      <th>3</th>\n",
       "      <td>1316154201527307743</td>\n",
       "      <td>2018-09-30</td>\n",
       "      <td>PILS</td>\n",
       "      <td>PILS</td>\n",
       "      <td>The consultation is over</td>\n",
       "      <td>Network</td>\n",
       "    </tr>\n",
       "    <tr>\n",
       "      <th>4</th>\n",
       "      <td>1316154201527307743</td>\n",
       "      <td>2018-09-30</td>\n",
       "      <td>PILS</td>\n",
       "      <td>PILS</td>\n",
       "      <td>The consultation is over</td>\n",
       "      <td>Network</td>\n",
       "    </tr>\n",
       "    <tr>\n",
       "      <th>...</th>\n",
       "      <td>...</td>\n",
       "      <td>...</td>\n",
       "      <td>...</td>\n",
       "      <td>...</td>\n",
       "      <td>...</td>\n",
       "      <td>...</td>\n",
       "    </tr>\n",
       "    <tr>\n",
       "      <th>12025</th>\n",
       "      <td>-7051552770088413806</td>\n",
       "      <td>2019-03-31</td>\n",
       "      <td>Mortgage</td>\n",
       "      <td>Mortgage</td>\n",
       "      <td>four</td>\n",
       "      <td>NaN</td>\n",
       "    </tr>\n",
       "    <tr>\n",
       "      <th>12026</th>\n",
       "      <td>-2283863549841851654</td>\n",
       "      <td>2019-02-28</td>\n",
       "      <td>Mortgage</td>\n",
       "      <td>Mortgage</td>\n",
       "      <td>four</td>\n",
       "      <td>NaN</td>\n",
       "    </tr>\n",
       "    <tr>\n",
       "      <th>12027</th>\n",
       "      <td>4409001434092016310</td>\n",
       "      <td>2019-03-31</td>\n",
       "      <td>Mortgage</td>\n",
       "      <td>Mortgage</td>\n",
       "      <td>2</td>\n",
       "      <td>NaN</td>\n",
       "    </tr>\n",
       "    <tr>\n",
       "      <th>12028</th>\n",
       "      <td>-2119157901008689776</td>\n",
       "      <td>2018-11-30</td>\n",
       "      <td>Cards</td>\n",
       "      <td>Credit cards</td>\n",
       "      <td>Issuing a card</td>\n",
       "      <td>UCHK</td>\n",
       "    </tr>\n",
       "    <tr>\n",
       "      <th>12029</th>\n",
       "      <td>-1065664632342440074</td>\n",
       "      <td>2018-12-31</td>\n",
       "      <td>Cards</td>\n",
       "      <td>Credit cards</td>\n",
       "      <td>Issuing a card</td>\n",
       "      <td>UCHK</td>\n",
       "    </tr>\n",
       "  </tbody>\n",
       "</table>\n",
       "<p>12030 rows × 6 columns</p>\n",
       "</div>"
      ],
      "text/plain": [
       "                 client_id month_end_dt appl_prod_group_name  \\\n",
       "0      6886062013213911831   2018-10-31                 PILS   \n",
       "1      4497537671718296975   2018-10-31                 PILS   \n",
       "2      1316154201527307743   2018-09-30                 PILS   \n",
       "3      1316154201527307743   2018-09-30                 PILS   \n",
       "4      1316154201527307743   2018-09-30                 PILS   \n",
       "...                    ...          ...                  ...   \n",
       "12025 -7051552770088413806   2019-03-31             Mortgage   \n",
       "12026 -2283863549841851654   2019-02-28             Mortgage   \n",
       "12027  4409001434092016310   2019-03-31             Mortgage   \n",
       "12028 -2119157901008689776   2018-11-30                Cards   \n",
       "12029 -1065664632342440074   2018-12-31                Cards   \n",
       "\n",
       "      appl_prod_type_name         appl_stts_name_dc appl_sale_channel_name  \n",
       "0                    PILS  The consultation is over                Network  \n",
       "1                    PILS  The consultation is over                Network  \n",
       "2                    PILS  The consultation is over                Network  \n",
       "3                    PILS  The consultation is over                Network  \n",
       "4                    PILS  The consultation is over                Network  \n",
       "...                   ...                       ...                    ...  \n",
       "12025            Mortgage                      four                    NaN  \n",
       "12026            Mortgage                      four                    NaN  \n",
       "12027            Mortgage                         2                    NaN  \n",
       "12028        Credit cards            Issuing a card                   UCHK  \n",
       "12029        Credit cards            Issuing a card                   UCHK  \n",
       "\n",
       "[12030 rows x 6 columns]"
      ]
     },
     "execution_count": 5,
     "metadata": {},
     "output_type": "execute_result"
    }
   ],
   "source": [
    "df_appl"
   ]
  },
  {
   "cell_type": "code",
   "execution_count": 6,
   "id": "2e1c767f",
   "metadata": {
    "scrolled": true
   },
   "outputs": [
    {
     "data": {
      "text/plain": [
       "array(['PILS', 'Cards', 'Mortgage'], dtype=object)"
      ]
     },
     "execution_count": 6,
     "metadata": {},
     "output_type": "execute_result"
    }
   ],
   "source": [
    "df_appl['appl_prod_group_name'].unique()"
   ]
  },
  {
   "cell_type": "code",
   "execution_count": 7,
   "id": "92a13cc8",
   "metadata": {},
   "outputs": [
    {
     "data": {
      "text/plain": [
       "array(['PILS', 'Debit cards', 'Credit cards', 'Mortgage'], dtype=object)"
      ]
     },
     "execution_count": 7,
     "metadata": {},
     "output_type": "execute_result"
    }
   ],
   "source": [
    "df_appl['appl_prod_type_name'].unique()"
   ]
  },
  {
   "cell_type": "code",
   "execution_count": 8,
   "id": "6c93b046",
   "metadata": {},
   "outputs": [
    {
     "data": {
      "text/plain": [
       "array(['The consultation is over', 'Issuance has been made', nan,\n",
       "       'Informing the Methodics', 'Client refusal', 'Draft',\n",
       "       'The documents have been prepared',\n",
       "       'An agreement is required to be signed',\n",
       "       'Improvement is required from the URC',\n",
       "       'Verification of customer data', 'To issue',\n",
       "       'Attachment of documents (after release)',\n",
       "       'Bank refusal (sent to Methodics)',\n",
       "       'Getting a list of customer cards', 'Issuing a card', 'Introduced',\n",
       "       'Waiting for contract data', 'Attachment of documents',\n",
       "       'Client refusal (Methodics)',\n",
       "       'Confirmation of issue by the Controller',\n",
       "       'Formation of the application', 'one', 'five', 'four', '2'],\n",
       "      dtype=object)"
      ]
     },
     "execution_count": 8,
     "metadata": {},
     "output_type": "execute_result"
    }
   ],
   "source": [
    "df_appl['appl_stts_name_dc'].unique()"
   ]
  },
  {
   "cell_type": "code",
   "execution_count": 9,
   "id": "34e71832",
   "metadata": {},
   "outputs": [
    {
     "data": {
      "text/plain": [
       "Issuance has been made                     4667\n",
       "Issuing a card                             1255\n",
       "Informing the Methodics                     828\n",
       "The consultation is over                    828\n",
       "Attachment of documents (after release)     599\n",
       "Draft                                       153\n",
       "Client refusal (Methodics)                   84\n",
       "Bank refusal (sent to Methodics)             34\n",
       "The documents have been prepared             34\n",
       "Formation of the application                 16\n",
       "An agreement is required to be signed        16\n",
       "Client refusal                               16\n",
       "Attachment of documents                       7\n",
       "Verification of customer data                 7\n",
       "four                                          5\n",
       "Getting a list of customer cards              5\n",
       "one                                           2\n",
       "Waiting for contract data                     2\n",
       "Confirmation of issue by the Controller       2\n",
       "five                                          2\n",
       "To issue                                      2\n",
       "2                                             1\n",
       "Improvement is required from the URC          1\n",
       "Introduced                                    1\n",
       "Name: appl_stts_name_dc, dtype: int64"
      ]
     },
     "execution_count": 9,
     "metadata": {},
     "output_type": "execute_result"
    }
   ],
   "source": [
    "df_appl['appl_stts_name_dc'].value_counts()"
   ]
  },
  {
   "cell_type": "code",
   "execution_count": 13,
   "id": "eae66b11",
   "metadata": {},
   "outputs": [
    {
     "data": {
      "text/plain": [
       "Network                  6836\n",
       "Direct sales             3111\n",
       "Telesales                1150\n",
       "DRKK                      776\n",
       "Premium                    51\n",
       "Sales to FC employees      30\n",
       "Heavy network               5\n",
       "Mini-offices                4\n",
       "UCHK                        2\n",
       "SME                         1\n",
       "Name: appl_sale_channel_name, dtype: int64"
      ]
     },
     "execution_count": 13,
     "metadata": {},
     "output_type": "execute_result"
    }
   ],
   "source": [
    "df_appl['appl_sale_channel_name'].value_counts()"
   ]
  },
  {
   "cell_type": "code",
   "execution_count": 15,
   "id": "d285a927",
   "metadata": {},
   "outputs": [
    {
     "data": {
      "text/html": [
       "<div>\n",
       "<style scoped>\n",
       "    .dataframe tbody tr th:only-of-type {\n",
       "        vertical-align: middle;\n",
       "    }\n",
       "\n",
       "    .dataframe tbody tr th {\n",
       "        vertical-align: top;\n",
       "    }\n",
       "\n",
       "    .dataframe thead th {\n",
       "        text-align: right;\n",
       "    }\n",
       "</style>\n",
       "<table border=\"1\" class=\"dataframe\">\n",
       "  <thead>\n",
       "    <tr style=\"text-align: right;\">\n",
       "      <th></th>\n",
       "      <th>client_id</th>\n",
       "      <th>month_end_dt</th>\n",
       "      <th>appl_prod_group_name</th>\n",
       "      <th>appl_prod_type_name</th>\n",
       "      <th>appl_stts_name_dc</th>\n",
       "      <th>appl_sale_channel_name</th>\n",
       "    </tr>\n",
       "  </thead>\n",
       "  <tbody>\n",
       "    <tr>\n",
       "      <th>2</th>\n",
       "      <td>1316154201527307743</td>\n",
       "      <td>2018-09-30</td>\n",
       "      <td>PILS</td>\n",
       "      <td>PILS</td>\n",
       "      <td>The consultation is over</td>\n",
       "      <td>Network</td>\n",
       "    </tr>\n",
       "    <tr>\n",
       "      <th>3</th>\n",
       "      <td>1316154201527307743</td>\n",
       "      <td>2018-09-30</td>\n",
       "      <td>PILS</td>\n",
       "      <td>PILS</td>\n",
       "      <td>The consultation is over</td>\n",
       "      <td>Network</td>\n",
       "    </tr>\n",
       "    <tr>\n",
       "      <th>4</th>\n",
       "      <td>1316154201527307743</td>\n",
       "      <td>2018-09-30</td>\n",
       "      <td>PILS</td>\n",
       "      <td>PILS</td>\n",
       "      <td>The consultation is over</td>\n",
       "      <td>Network</td>\n",
       "    </tr>\n",
       "    <tr>\n",
       "      <th>2932</th>\n",
       "      <td>1316154201527307743</td>\n",
       "      <td>2019-07-31</td>\n",
       "      <td>PILS</td>\n",
       "      <td>PILS</td>\n",
       "      <td>NaN</td>\n",
       "      <td>Network</td>\n",
       "    </tr>\n",
       "    <tr>\n",
       "      <th>4175</th>\n",
       "      <td>1316154201527307743</td>\n",
       "      <td>2019-07-31</td>\n",
       "      <td>Cards</td>\n",
       "      <td>Credit cards</td>\n",
       "      <td>NaN</td>\n",
       "      <td>Network</td>\n",
       "    </tr>\n",
       "  </tbody>\n",
       "</table>\n",
       "</div>"
      ],
      "text/plain": [
       "                client_id month_end_dt appl_prod_group_name  \\\n",
       "2     1316154201527307743   2018-09-30                 PILS   \n",
       "3     1316154201527307743   2018-09-30                 PILS   \n",
       "4     1316154201527307743   2018-09-30                 PILS   \n",
       "2932  1316154201527307743   2019-07-31                 PILS   \n",
       "4175  1316154201527307743   2019-07-31                Cards   \n",
       "\n",
       "     appl_prod_type_name         appl_stts_name_dc appl_sale_channel_name  \n",
       "2                   PILS  The consultation is over                Network  \n",
       "3                   PILS  The consultation is over                Network  \n",
       "4                   PILS  The consultation is over                Network  \n",
       "2932                PILS                       NaN                Network  \n",
       "4175        Credit cards                       NaN                Network  "
      ]
     },
     "execution_count": 15,
     "metadata": {},
     "output_type": "execute_result"
    }
   ],
   "source": [
    "df_appl.groupby('client_id').get_group(1316154201527307743)"
   ]
  },
  {
   "cell_type": "code",
   "execution_count": 32,
   "id": "ab8bedf9",
   "metadata": {},
   "outputs": [
    {
     "data": {
      "text/html": [
       "<div>\n",
       "<style scoped>\n",
       "    .dataframe tbody tr th:only-of-type {\n",
       "        vertical-align: middle;\n",
       "    }\n",
       "\n",
       "    .dataframe tbody tr th {\n",
       "        vertical-align: top;\n",
       "    }\n",
       "\n",
       "    .dataframe thead th {\n",
       "        text-align: right;\n",
       "    }\n",
       "</style>\n",
       "<table border=\"1\" class=\"dataframe\">\n",
       "  <thead>\n",
       "    <tr style=\"text-align: right;\">\n",
       "      <th></th>\n",
       "      <th>appl_prod_group_name</th>\n",
       "      <th>appl_prod_type_name</th>\n",
       "      <th>appl_stts_name_dc</th>\n",
       "      <th>appl_sale_channel_name</th>\n",
       "    </tr>\n",
       "    <tr>\n",
       "      <th>client_id</th>\n",
       "      <th></th>\n",
       "      <th></th>\n",
       "      <th></th>\n",
       "      <th></th>\n",
       "    </tr>\n",
       "  </thead>\n",
       "  <tbody>\n",
       "    <tr>\n",
       "      <th>-9220233431709087652</th>\n",
       "      <td>PILS</td>\n",
       "      <td>PILS</td>\n",
       "      <td>Informing the Methodics</td>\n",
       "      <td>Direct sales</td>\n",
       "    </tr>\n",
       "    <tr>\n",
       "      <th>-9217522148893126271</th>\n",
       "      <td>PILS</td>\n",
       "      <td>PILS</td>\n",
       "      <td>The consultation is over</td>\n",
       "      <td>Network</td>\n",
       "    </tr>\n",
       "    <tr>\n",
       "      <th>-9216473704060526660</th>\n",
       "      <td>PILS</td>\n",
       "      <td>PILS</td>\n",
       "      <td>The consultation is over</td>\n",
       "      <td>Network</td>\n",
       "    </tr>\n",
       "    <tr>\n",
       "      <th>-9210484825961669240</th>\n",
       "      <td>Cards</td>\n",
       "      <td>Credit cards</td>\n",
       "      <td>Issuance has been made</td>\n",
       "      <td>Network</td>\n",
       "    </tr>\n",
       "    <tr>\n",
       "      <th>-9205631574376998747</th>\n",
       "      <td>PILS</td>\n",
       "      <td>PILS</td>\n",
       "      <td>The consultation is over</td>\n",
       "      <td>Network</td>\n",
       "    </tr>\n",
       "  </tbody>\n",
       "</table>\n",
       "</div>"
      ],
      "text/plain": [
       "                     appl_prod_group_name appl_prod_type_name  \\\n",
       "client_id                                                       \n",
       "-9220233431709087652                 PILS                PILS   \n",
       "-9217522148893126271                 PILS                PILS   \n",
       "-9216473704060526660                 PILS                PILS   \n",
       "-9210484825961669240                Cards        Credit cards   \n",
       "-9205631574376998747                 PILS                PILS   \n",
       "\n",
       "                             appl_stts_name_dc appl_sale_channel_name  \n",
       "client_id                                                              \n",
       "-9220233431709087652   Informing the Methodics           Direct sales  \n",
       "-9217522148893126271  The consultation is over                Network  \n",
       "-9216473704060526660  The consultation is over                Network  \n",
       "-9210484825961669240    Issuance has been made                Network  \n",
       "-9205631574376998747  The consultation is over                Network  "
      ]
     },
     "execution_count": 32,
     "metadata": {},
     "output_type": "execute_result"
    }
   ],
   "source": [
    "columns = ['appl_prod_group_name', 'appl_prod_type_name', 'appl_stts_name_dc', 'appl_sale_channel_name']\n",
    "df_features = df_appl.dropna(subset=['appl_stts_name_dc'], axis=0).sort_values('month_end_dt')\\\n",
    "    .groupby('client_id')[columns].apply(lambda r: r.iloc[-1])\n",
    "df_features.head()"
   ]
  },
  {
   "cell_type": "code",
   "execution_count": 33,
   "id": "64fdfd73",
   "metadata": {},
   "outputs": [
    {
     "data": {
      "text/plain": [
       "Issuance has been made                     4667\n",
       "Issuing a card                             1255\n",
       "Informing the Methodics                     828\n",
       "The consultation is over                    828\n",
       "Attachment of documents (after release)     599\n",
       "Draft                                       153\n",
       "Client refusal (Methodics)                   84\n",
       "Bank refusal (sent to Methodics)             34\n",
       "The documents have been prepared             34\n",
       "Formation of the application                 16\n",
       "An agreement is required to be signed        16\n",
       "Client refusal                               16\n",
       "Attachment of documents                       7\n",
       "Verification of customer data                 7\n",
       "Name: appl_stts_name_dc, dtype: int64"
      ]
     },
     "execution_count": 33,
     "metadata": {},
     "output_type": "execute_result"
    }
   ],
   "source": [
    "counts = df_appl['appl_stts_name_dc'].value_counts()\n",
    "counts = counts[counts >= 7]\n",
    "counts"
   ]
  },
  {
   "cell_type": "code",
   "execution_count": 34,
   "id": "e2d235aa",
   "metadata": {},
   "outputs": [
    {
     "data": {
      "text/html": [
       "<div>\n",
       "<style scoped>\n",
       "    .dataframe tbody tr th:only-of-type {\n",
       "        vertical-align: middle;\n",
       "    }\n",
       "\n",
       "    .dataframe tbody tr th {\n",
       "        vertical-align: top;\n",
       "    }\n",
       "\n",
       "    .dataframe thead th {\n",
       "        text-align: right;\n",
       "    }\n",
       "</style>\n",
       "<table border=\"1\" class=\"dataframe\">\n",
       "  <thead>\n",
       "    <tr style=\"text-align: right;\">\n",
       "      <th></th>\n",
       "      <th>appl_prod_group_name</th>\n",
       "      <th>appl_prod_type_name</th>\n",
       "      <th>appl_stts_name_dc</th>\n",
       "      <th>appl_sale_channel_name</th>\n",
       "    </tr>\n",
       "    <tr>\n",
       "      <th>client_id</th>\n",
       "      <th></th>\n",
       "      <th></th>\n",
       "      <th></th>\n",
       "      <th></th>\n",
       "    </tr>\n",
       "  </thead>\n",
       "  <tbody>\n",
       "    <tr>\n",
       "      <th>-9220233431709087652</th>\n",
       "      <td>PILS</td>\n",
       "      <td>PILS</td>\n",
       "      <td>Informing the Methodics</td>\n",
       "      <td>Direct sales</td>\n",
       "    </tr>\n",
       "    <tr>\n",
       "      <th>-9217522148893126271</th>\n",
       "      <td>PILS</td>\n",
       "      <td>PILS</td>\n",
       "      <td>The consultation is over</td>\n",
       "      <td>Network</td>\n",
       "    </tr>\n",
       "    <tr>\n",
       "      <th>-9216473704060526660</th>\n",
       "      <td>PILS</td>\n",
       "      <td>PILS</td>\n",
       "      <td>The consultation is over</td>\n",
       "      <td>Network</td>\n",
       "    </tr>\n",
       "    <tr>\n",
       "      <th>-9210484825961669240</th>\n",
       "      <td>Cards</td>\n",
       "      <td>Credit cards</td>\n",
       "      <td>Issuance has been made</td>\n",
       "      <td>Network</td>\n",
       "    </tr>\n",
       "    <tr>\n",
       "      <th>-9205631574376998747</th>\n",
       "      <td>PILS</td>\n",
       "      <td>PILS</td>\n",
       "      <td>The consultation is over</td>\n",
       "      <td>Network</td>\n",
       "    </tr>\n",
       "    <tr>\n",
       "      <th>...</th>\n",
       "      <td>...</td>\n",
       "      <td>...</td>\n",
       "      <td>...</td>\n",
       "      <td>...</td>\n",
       "    </tr>\n",
       "    <tr>\n",
       "      <th>9195100824581519703</th>\n",
       "      <td>PILS</td>\n",
       "      <td>PILS</td>\n",
       "      <td>Informing the Methodics</td>\n",
       "      <td>Network</td>\n",
       "    </tr>\n",
       "    <tr>\n",
       "      <th>9208642641844740200</th>\n",
       "      <td>Cards</td>\n",
       "      <td>Debit cards</td>\n",
       "      <td>Issuance has been made</td>\n",
       "      <td>Direct sales</td>\n",
       "    </tr>\n",
       "    <tr>\n",
       "      <th>9210268912367210109</th>\n",
       "      <td>PILS</td>\n",
       "      <td>PILS</td>\n",
       "      <td>Issuance has been made</td>\n",
       "      <td>Network</td>\n",
       "    </tr>\n",
       "    <tr>\n",
       "      <th>9213178145161007127</th>\n",
       "      <td>Cards</td>\n",
       "      <td>Credit cards</td>\n",
       "      <td>Issuance has been made</td>\n",
       "      <td>Network</td>\n",
       "    </tr>\n",
       "    <tr>\n",
       "      <th>9223107459698100059</th>\n",
       "      <td>Cards</td>\n",
       "      <td>Debit cards</td>\n",
       "      <td>Issuance has been made</td>\n",
       "      <td>Direct sales</td>\n",
       "    </tr>\n",
       "  </tbody>\n",
       "</table>\n",
       "<p>4828 rows × 4 columns</p>\n",
       "</div>"
      ],
      "text/plain": [
       "                     appl_prod_group_name appl_prod_type_name  \\\n",
       "client_id                                                       \n",
       "-9220233431709087652                 PILS                PILS   \n",
       "-9217522148893126271                 PILS                PILS   \n",
       "-9216473704060526660                 PILS                PILS   \n",
       "-9210484825961669240                Cards        Credit cards   \n",
       "-9205631574376998747                 PILS                PILS   \n",
       "...                                   ...                 ...   \n",
       " 9195100824581519703                 PILS                PILS   \n",
       " 9208642641844740200                Cards         Debit cards   \n",
       " 9210268912367210109                 PILS                PILS   \n",
       " 9213178145161007127                Cards        Credit cards   \n",
       " 9223107459698100059                Cards         Debit cards   \n",
       "\n",
       "                             appl_stts_name_dc appl_sale_channel_name  \n",
       "client_id                                                              \n",
       "-9220233431709087652   Informing the Methodics           Direct sales  \n",
       "-9217522148893126271  The consultation is over                Network  \n",
       "-9216473704060526660  The consultation is over                Network  \n",
       "-9210484825961669240    Issuance has been made                Network  \n",
       "-9205631574376998747  The consultation is over                Network  \n",
       "...                                        ...                    ...  \n",
       " 9195100824581519703   Informing the Methodics                Network  \n",
       " 9208642641844740200    Issuance has been made           Direct sales  \n",
       " 9210268912367210109    Issuance has been made                Network  \n",
       " 9213178145161007127    Issuance has been made                Network  \n",
       " 9223107459698100059    Issuance has been made           Direct sales  \n",
       "\n",
       "[4828 rows x 4 columns]"
      ]
     },
     "execution_count": 34,
     "metadata": {},
     "output_type": "execute_result"
    }
   ],
   "source": [
    "df_features = df_features[df_features['appl_stts_name_dc'].isin(set(counts.index))]\n",
    "df_features"
   ]
  },
  {
   "cell_type": "code",
   "execution_count": 35,
   "id": "fff2a5d3",
   "metadata": {},
   "outputs": [],
   "source": [
    "df_features.to_csv('appl_features.csv')"
   ]
  },
  {
   "cell_type": "code",
   "execution_count": null,
   "id": "e22f9c33",
   "metadata": {},
   "outputs": [],
   "source": []
  }
 ],
 "metadata": {
  "kernelspec": {
   "display_name": "Python 3",
   "language": "python",
   "name": "python3"
  },
  "language_info": {
   "codemirror_mode": {
    "name": "ipython",
    "version": 3
   },
   "file_extension": ".py",
   "mimetype": "text/x-python",
   "name": "python",
   "nbconvert_exporter": "python",
   "pygments_lexer": "ipython3",
   "version": "3.8.5"
  }
 },
 "nbformat": 4,
 "nbformat_minor": 5
}
